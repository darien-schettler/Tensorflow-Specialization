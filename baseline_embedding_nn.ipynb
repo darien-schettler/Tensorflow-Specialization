{
 "cells": [
  {
   "cell_type": "code",
   "execution_count": 1,
   "metadata": {},
   "outputs": [],
   "source": [
    "import os\n",
    "import io\n",
    "\n",
    "import tensorflow as tf\n",
    "from tensorflow.keras.preprocessing.text import Tokenizer\n",
    "from tensorflow.keras.preprocessing.sequence import pad_sequences\n",
    "\n",
    "import json\n",
    "\n",
    "import random\n",
    "import numpy as np"
   ]
  },
  {
   "cell_type": "code",
   "execution_count": 2,
   "metadata": {},
   "outputs": [],
   "source": [
    "vocab_size = 10000\n",
    "embedding_dim = 64\n",
    "max_length = 200\n",
    "\n",
    "trunc_type = 'post'\n",
    "padding_type = 'post'\n",
    "oov_tok = \"<OOV>\"\n",
    "\n",
    "training_portion = .9"
   ]
  },
  {
   "cell_type": "code",
   "execution_count": 3,
   "metadata": {},
   "outputs": [],
   "source": [
    "stop_words = [ \"a\", \"about\", \"above\", \"after\", \"again\", \"against\", \"all\", \"am\", \"an\", \"and\", \"any\", \"are\", \"as\", \"at\", \"be\", \"because\", \"been\", \"before\", \"being\", \"below\", \"between\", \"both\", \"but\", \"by\", \"could\", \"did\", \"do\", \"does\", \"doing\", \"down\", \"during\", \"each\", \"few\", \"for\", \"from\", \"further\", \"had\", \"has\", \"have\", \"having\", \"he\", \"he'd\", \"he'll\", \"he's\", \"her\", \"here\", \"here's\", \"hers\", \"herself\", \"him\", \"himself\", \"his\", \"how\", \"how's\", \"i\", \"i'd\", \"i'll\", \"i'm\", \"i've\", \"if\", \"in\", \"into\", \"is\", \"it\", \"it's\", \"its\", \"itself\", \"let's\", \"me\", \"more\", \"most\", \"my\", \"myself\", \"nor\", \"of\", \"on\", \"once\", \"only\", \"or\", \"other\", \"ought\", \"our\", \"ours\", \"ourselves\", \"out\", \"over\", \"own\", \"same\", \"she\", \"she'd\", \"she'll\", \"she's\", \"should\", \"so\", \"some\", \"such\", \"than\", \"that\", \"that's\", \"the\", \"their\", \"theirs\", \"them\", \"themselves\", \"then\", \"there\", \"there's\", \"these\", \"they\", \"they'd\", \"they'll\", \"they're\", \"they've\", \"this\", \"those\", \"through\", \"to\", \"too\", \"under\", \"until\", \"up\", \"very\", \"was\", \"we\", \"we'd\", \"we'll\", \"we're\", \"we've\", \"were\", \"what\", \"what's\", \"when\", \"when's\", \"where\", \"where's\", \"which\", \"while\", \"who\", \"who's\", \"whom\", \"why\", \"why's\", \"with\", \"would\", \"you\", \"you'd\", \"you'll\", \"you're\", \"you've\", \"your\", \"yours\", \"yourself\", \"yourselves\"]"
   ]
  },
  {
   "cell_type": "markdown",
   "metadata": {},
   "source": [
    "Ensure you get the data from here http://mlg.ucd.ie/datasets/bbc.html and put it into the data folder when unzipping"
   ]
  },
  {
   "cell_type": "code",
   "execution_count": 4,
   "metadata": {},
   "outputs": [],
   "source": [
    "path_to_bbc = \"./data/bbc\"\n",
    "path_to_bbcsport = \"./data/bbcsport\"\n",
    "\n",
    "bbc_business = os.path.join(path_to_bbc, \"business\")\n",
    "bbc_entertainment = os.path.join(path_to_bbc, \"entertainment\")\n",
    "bbc_tech = os.path.join(path_to_bbc, \"tech\")\n",
    "bbc_politics = os.path.join(path_to_bbc, \"politics\")\n",
    "bbc_sport = os.path.join(path_to_bbc, \"sport\")\n",
    "\n",
    "bbcsport_athletics = os.path.join(path_to_bbcsport, \"athletics\")\n",
    "bbcsport_cricket = os.path.join(path_to_bbcsport, \"cricket\")\n",
    "bbcsport_football = os.path.join(path_to_bbcsport, \"football\")\n",
    "bbcsport_rugby = os.path.join(path_to_bbcsport, \"rugby\")\n",
    "bbcsport_tennis = os.path.join(path_to_bbcsport, \"tennis\")"
   ]
  },
  {
   "cell_type": "code",
   "execution_count": 5,
   "metadata": {},
   "outputs": [],
   "source": [
    "sentences = []\n",
    "labels = []\n",
    "\n",
    "for path in [bbc_business, bbc_entertainment, bbc_tech, bbc_politics, bbc_sport, bbcsport_athletics, bbcsport_cricket, bbcsport_football,bbcsport_rugby, bbcsport_tennis]:\n",
    "    for f_name in os.listdir(path):\n",
    "        with open(os.path.join(path, f_name), encoding='utf-8', errors='ignore') as f: \n",
    "            data = f.readlines() \n",
    "        single_file_data = [x for x in data if len(x)>5]\n",
    "        sentences+=single_file_data\n",
    "        for i in range(len(single_file_data)):\n",
    "            labels.append(path.split(\"/\")[-1])"
   ]
  },
  {
   "cell_type": "code",
   "execution_count": 6,
   "metadata": {
    "scrolled": true
   },
   "outputs": [
    {
     "name": "stdout",
     "output_type": "stream",
     "text": [
      "\n",
      "Number of sentences : 16953\n",
      "Number of labels : 16953\n",
      "\n",
      "\n",
      "Possible labels : 10\n",
      "\n",
      "Label  1 ---> athletics\n",
      "Label  2 ---> business\n",
      "Label  3 ---> cricket\n",
      "Label  4 ---> entertainment\n",
      "Label  5 ---> football\n",
      "Label  6 ---> politics\n",
      "Label  7 ---> rugby\n",
      "Label  8 ---> sport\n",
      "Label  9 ---> tech\n",
      "Label 10 ---> tennis\n"
     ]
    }
   ],
   "source": [
    "print(\"\\nNumber of sentences : {}\".format(len(sentences)))\n",
    "print(\"Number of labels : {}\\n\\n\".format(len(labels)))\n",
    "\n",
    "print(\"Possible labels : {}\\n\".format(len(sorted(set(labels)))))\n",
    "\n",
    "for i, label in enumerate(sorted(set(labels))):\n",
    "    print(\"Label {:2d} ---> {}\".format(i+1, label))"
   ]
  },
  {
   "cell_type": "code",
   "execution_count": 7,
   "metadata": {},
   "outputs": [],
   "source": [
    "def remove_stop_words(list_of_sentences, stop_word_array):\n",
    "    for stop_word in stop_word_array:\n",
    "        list_of_sentences = [words.replace(\" \"+stop_word+\" \", \" \") for words in list_of_sentences]\n",
    "        list_of_sentences = [words.replace(\"  \", \" \") for words in list_of_sentences]\n",
    "    \n",
    "    return list_of_sentences"
   ]
  },
  {
   "cell_type": "code",
   "execution_count": 8,
   "metadata": {},
   "outputs": [
    {
     "name": "stdout",
     "output_type": "stream",
     "text": [
      "a in corpus : False\n",
      "about in corpus : False\n",
      "above in corpus : False\n",
      "after in corpus : False\n",
      "again in corpus : False\n",
      "against in corpus : False\n",
      "all in corpus : False\n",
      "am in corpus : False\n",
      "an in corpus : False\n",
      "and in corpus : False\n",
      "any in corpus : False\n",
      "are in corpus : False\n",
      "as in corpus : False\n",
      "at in corpus : False\n",
      "be in corpus : False\n",
      "because in corpus : False\n",
      "been in corpus : False\n",
      "before in corpus : False\n",
      "being in corpus : False\n",
      "below in corpus : False\n",
      "between in corpus : False\n",
      "both in corpus : False\n",
      "but in corpus : False\n",
      "by in corpus : False\n",
      "could in corpus : False\n",
      "did in corpus : False\n",
      "do in corpus : False\n",
      "does in corpus : False\n",
      "doing in corpus : False\n",
      "down in corpus : False\n",
      "during in corpus : False\n",
      "each in corpus : False\n",
      "few in corpus : False\n",
      "for in corpus : False\n",
      "from in corpus : False\n",
      "further in corpus : False\n",
      "had in corpus : False\n",
      "has in corpus : False\n",
      "have in corpus : False\n",
      "having in corpus : False\n",
      "he in corpus : False\n",
      "he'd in corpus : False\n",
      "he'll in corpus : False\n",
      "he's in corpus : False\n",
      "her in corpus : False\n",
      "here in corpus : False\n",
      "here's in corpus : False\n",
      "hers in corpus : False\n",
      "herself in corpus : False\n",
      "him in corpus : False\n",
      "himself in corpus : False\n",
      "his in corpus : False\n",
      "how in corpus : False\n",
      "how's in corpus : False\n",
      "i in corpus : False\n",
      "i'd in corpus : False\n",
      "i'll in corpus : False\n",
      "i'm in corpus : False\n",
      "i've in corpus : False\n",
      "if in corpus : False\n",
      "in in corpus : False\n",
      "into in corpus : False\n",
      "is in corpus : False\n",
      "it in corpus : False\n",
      "it's in corpus : False\n",
      "its in corpus : False\n",
      "itself in corpus : False\n",
      "let's in corpus : False\n",
      "me in corpus : False\n",
      "more in corpus : False\n",
      "most in corpus : False\n",
      "my in corpus : False\n",
      "myself in corpus : False\n",
      "nor in corpus : False\n",
      "of in corpus : False\n",
      "on in corpus : False\n",
      "once in corpus : False\n",
      "only in corpus : False\n",
      "or in corpus : False\n",
      "other in corpus : False\n",
      "ought in corpus : False\n",
      "our in corpus : False\n",
      "ours in corpus : False\n",
      "ourselves in corpus : False\n",
      "out in corpus : False\n",
      "over in corpus : False\n",
      "own in corpus : False\n",
      "same in corpus : False\n",
      "she in corpus : False\n",
      "she'd in corpus : False\n",
      "she'll in corpus : False\n",
      "she's in corpus : False\n",
      "should in corpus : False\n",
      "so in corpus : False\n",
      "some in corpus : False\n",
      "such in corpus : False\n",
      "than in corpus : False\n",
      "that in corpus : False\n",
      "that's in corpus : False\n",
      "the in corpus : False\n",
      "their in corpus : False\n",
      "theirs in corpus : False\n",
      "them in corpus : False\n",
      "themselves in corpus : False\n",
      "then in corpus : False\n",
      "there in corpus : False\n",
      "there's in corpus : False\n",
      "these in corpus : False\n",
      "they in corpus : False\n",
      "they'd in corpus : False\n",
      "they'll in corpus : False\n",
      "they're in corpus : False\n",
      "they've in corpus : False\n",
      "this in corpus : False\n",
      "those in corpus : False\n",
      "through in corpus : False\n",
      "to in corpus : False\n",
      "too in corpus : False\n",
      "under in corpus : False\n",
      "until in corpus : False\n",
      "up in corpus : False\n",
      "very in corpus : False\n",
      "was in corpus : False\n",
      "we in corpus : False\n",
      "we'd in corpus : False\n",
      "we'll in corpus : False\n",
      "we're in corpus : False\n",
      "we've in corpus : False\n",
      "were in corpus : False\n",
      "what in corpus : False\n",
      "what's in corpus : False\n",
      "when in corpus : False\n",
      "when's in corpus : False\n",
      "where in corpus : False\n",
      "where's in corpus : False\n",
      "which in corpus : False\n",
      "while in corpus : False\n",
      "who in corpus : False\n",
      "who's in corpus : False\n",
      "whom in corpus : False\n",
      "why in corpus : False\n",
      "why's in corpus : False\n",
      "with in corpus : False\n",
      "would in corpus : False\n",
      "you in corpus : False\n",
      "you'd in corpus : False\n",
      "you'll in corpus : False\n",
      "you're in corpus : False\n",
      "you've in corpus : False\n",
      "your in corpus : False\n",
      "yours in corpus : False\n",
      "yourself in corpus : False\n",
      "yourselves in corpus : False\n"
     ]
    }
   ],
   "source": [
    "#Check\n",
    "for stop_word in stop_words:\n",
    "    print(\"{} in corpus : {}\".format(stop_word, stop_word in sentences))"
   ]
  },
  {
   "cell_type": "code",
   "execution_count": 9,
   "metadata": {},
   "outputs": [
    {
     "name": "stdout",
     "output_type": "stream",
     "text": [
      "train_size  :  15257\n",
      "length of train_sentences  :  15257\n",
      "length of train_labels :  15257\n",
      "length of validation_sentences  :  1696\n",
      "length of validation_labels  :  1696\n"
     ]
    }
   ],
   "source": [
    "train_size = int(len(sentences) * training_portion)\n",
    "\n",
    "random_idxs = random.sample(range(len(sentences)), train_size)\n",
    "compliment_idxs = [idx for idx in range(len(sentences)) if idx not in random_idxs]\n",
    "\n",
    "train_sentences = [sentences[idx] for idx in random_idxs]\n",
    "train_labels = [labels[idx] for idx in random_idxs]\n",
    "\n",
    "validation_sentences = [sentences[idx] for idx in compliment_idxs]\n",
    "validation_labels = [labels[idx] for idx in compliment_idxs]\n",
    "\n",
    "print(\"train_size  :  {}\".format(train_size))\n",
    "print(\"length of train_sentences  :  {}\".format(len(train_sentences)))\n",
    "print(\"length of train_labels :  {}\".format(len(train_labels)))\n",
    "print(\"length of validation_sentences  :  {}\".format(len(validation_sentences)))\n",
    "print(\"length of validation_labels  :  {}\".format(len(validation_labels)))"
   ]
  },
  {
   "cell_type": "code",
   "execution_count": 10,
   "metadata": {},
   "outputs": [],
   "source": [
    "tokenizer = Tokenizer(num_words = vocab_size, \n",
    "                      oov_token = oov_tok)\n",
    "\n",
    "tokenizer.fit_on_texts(train_sentences)"
   ]
  },
  {
   "cell_type": "code",
   "execution_count": 11,
   "metadata": {
    "scrolled": true
   },
   "outputs": [
    {
     "name": "stdout",
     "output_type": "stream",
     "text": [
      "\n",
      "Number of words in the word index :\n",
      "\n",
      "32708\n",
      "\n",
      "\n",
      "Words in order of commonality :\n",
      "\n",
      "['<OOV>', 'the', 'to', 'of', 'a', 'and', 'in', 'for', 'is', 'on', 'that', 'it', 'said', 'he', 'was', 'with', 'be', 'but', 'have', 'at', 'has', 'as', 'will', 'i', 'by', 'are', 'his', 'from', 'not', 'we', 'they', 'an', 'this', 'had', 'been', 'their', 'would', 'mr', 'which', 'up', 'who', 'were', 'more', 'year', 'after', 'also', 'one', 'out', 'new', 'its', 'there', 'us', 'all', 'first', 'about', 'people', 'over', 'if', 'when', 'can', 'or', 'last', 'you', 'time', 'two', 'could', 'than', 'against', 'world', 'now', 'game', 'so', 'into', 'she', 'some', 'what', 'just', 'only', 'back', 'other', 'no', 'them', \"it's\", 'do', 'before', 'three', 'years', 'best', 'made', 'very', 'england', 'get', 'make', 'told', 'win', 'her', 'like', 'my', 'being', 'set']\n",
      "\n"
     ]
    }
   ],
   "source": [
    "word_index = tokenizer.word_index\n",
    "print(\"\\nNumber of words in the word index :\\n\\n{}\\n\\n\".format(len(word_index)))\n",
    "print(\"Words in order of commonality :\\n\\n{}\\n\".format(list(word_index)[0:100]))"
   ]
  },
  {
   "cell_type": "code",
   "execution_count": 12,
   "metadata": {},
   "outputs": [],
   "source": [
    "train_sequences = tokenizer.texts_to_sequences(train_sentences)\n",
    "train_padded = pad_sequences(train_sequences, padding=padding_type, maxlen=max_length)\n",
    "\n",
    "validation_sequences = tokenizer.texts_to_sequences(validation_sentences)\n",
    "validation_padded = pad_sequences(validation_sequences, padding=padding_type, maxlen=max_length)"
   ]
  },
  {
   "cell_type": "code",
   "execution_count": 13,
   "metadata": {},
   "outputs": [],
   "source": [
    "def see_padded_seq(idx, sentences, padded):\n",
    "    print(\"\\nOriginal sentence : \\n\\n    {}\\n\\n\".format(sentences[idx]))\n",
    "    print(\"Padded tokenized version : \\n\\n    {}\\n\\n\".format(padded[idx]))"
   ]
  },
  {
   "cell_type": "code",
   "execution_count": 14,
   "metadata": {},
   "outputs": [
    {
     "name": "stdout",
     "output_type": "stream",
     "text": [
      "\n",
      "TRAIN\n",
      "\n",
      "\n",
      "Original sentence : \n",
      "\n",
      "    Scarlets chief executive Stuart Gallacher confirmed that 17 of the current squad would be out of contract in the summer. \"We have a deliberate policy whereby around half the squad are coming out of contract and they know they won't all be re-signed, it's a chance to invigorate the squad,\" he said. \"I'm positive about the future of the Scarlets both on and off the field.\" Gallacher was keen to pay tribute to the role back-five forward Hodges has played at Stradey Park, though. \"David has been a highly influential member of our squad for seven years,\" said Gallacher. \"He is a real professional and we thank him for the part he has played in our success. \"I am sure he has an enormous contribution to make to the development of rugby in the US and we wish him and his family well.\" Hodges described his years at Stradey as \"the best time of my life.\"\n",
      "\n",
      "\n",
      "\n",
      "Padded tokenized version : \n",
      "\n",
      "    [4683  234  352 2102 9893  864   11  558    4    2  434  416   37   17\n",
      "   48    4  768    7    2  559   30   19    5 6927  691    1  260  145\n",
      "    2  416   26  487   48    4  768    6   31  233   31 1480   53   17\n",
      "  881  971   83    5  293    3    1    2  416   14   13  181  854   55\n",
      "    2  264    4    2 4683  164   10    6  101    2  855 9893   15 1053\n",
      "    3  435 2726    3    2  419   79  147  454 7373   21  218   20 9134\n",
      "  927  536  397   21   35    5 1827 4023 1020    4  127  416    8  609\n",
      "   87   13 9893   14    9    5  265 1805    6   30 2313  106    8    2\n",
      "  165   14   21  218    7  127  554   24  283  592   14   21   32 3152\n",
      " 2366    3   93    3    2  704    4  296    7    2   52    6   30 2223\n",
      "  106    6   27  811  103 7373 1382   27   87   20 9134   22    2   88\n",
      "   64    4   98  286    0    0    0    0    0    0    0    0    0    0\n",
      "    0    0    0    0    0    0    0    0    0    0    0    0    0    0\n",
      "    0    0    0    0    0    0    0    0    0    0    0    0    0    0\n",
      "    0    0    0    0]\n",
      "\n",
      "\n",
      "------------------------------------------------------------------------------------------------\n",
      "\n",
      "\n",
      "VALIDATION\n",
      "\n",
      "\n",
      "Original sentence : \n",
      "\n",
      "    When Arsenal moves to its new stadium it will see its proportion of turnover from media earnings drop from 52% this season to 34% in two years' time. The club is hoping to increase matchday earnings from 29% to 40% of turnover, and has not ruled out other money-earning means, including a full share listing. \"When the new stadium opens we will go through a thorough financial review,\" Mr Dein said.\n",
      "\n",
      "\n",
      "\n",
      "Padded tokenized version : \n",
      "\n",
      "    [  59  406 2933    3   50   49  994   12   23  162   50 4939    4 5075\n",
      "   28  363 1745 1146   28 3071   33  229    3 1760    7   65 6390   64\n",
      "    2  174    9 1135    3  548    1 1745   28 1753    3  744    4 5075\n",
      "    6   21   29 1002   48   80  243 3157  528  285    5  367  599 3621\n",
      "   59    2   49  994 2759   30   23  130  152    5 9668  520 1520   38\n",
      "    1   13    0    0    0    0    0    0    0    0    0    0    0    0\n",
      "    0    0    0    0    0    0    0    0    0    0    0    0    0    0\n",
      "    0    0    0    0    0    0    0    0    0    0    0    0    0    0\n",
      "    0    0    0    0    0    0    0    0    0    0    0    0    0    0\n",
      "    0    0    0    0    0    0    0    0    0    0    0    0    0    0\n",
      "    0    0    0    0    0    0    0    0    0    0    0    0    0    0\n",
      "    0    0    0    0    0    0    0    0    0    0    0    0    0    0\n",
      "    0    0    0    0    0    0    0    0    0    0    0    0    0    0\n",
      "    0    0    0    0    0    0    0    0    0    0    0    0    0    0\n",
      "    0    0    0    0]\n",
      "\n",
      "\n"
     ]
    }
   ],
   "source": [
    "print(\"\\nTRAIN\\n\")\n",
    "see_padded_seq(1, train_sentences, train_padded)\n",
    "print(\"------------------------------------------------------------------------------------------------\")\n",
    "print(\"\\n\\nVALIDATION\\n\")\n",
    "see_padded_seq(1, validation_sentences, validation_padded)"
   ]
  },
  {
   "cell_type": "code",
   "execution_count": 15,
   "metadata": {},
   "outputs": [],
   "source": [
    "label_tokenizer = Tokenizer()\n",
    "label_tokenizer.fit_on_texts(labels)\n",
    "training_label_seq = np.array(label_tokenizer.texts_to_sequences(train_labels))\n",
    "validation_label_seq = np.array(label_tokenizer.texts_to_sequences(validation_labels))"
   ]
  },
  {
   "cell_type": "code",
   "execution_count": 16,
   "metadata": {},
   "outputs": [
    {
     "name": "stdout",
     "output_type": "stream",
     "text": [
      "\n",
      "TRAIN\n",
      "\n",
      "\n",
      "Original sentence : \n",
      "\n",
      "    rugby\n",
      "\n",
      "\n",
      "Padded tokenized version : \n",
      "\n",
      "    [7]\n",
      "\n",
      "\n",
      "------------------------------------------------------------------------------------------------\n",
      "\n",
      "\n",
      "VALIDATION\n",
      "\n",
      "\n",
      "Original sentence : \n",
      "\n",
      "    business\n",
      "\n",
      "\n",
      "Padded tokenized version : \n",
      "\n",
      "    [2]\n",
      "\n",
      "\n",
      "10\n"
     ]
    }
   ],
   "source": [
    "print(\"\\nTRAIN\\n\")\n",
    "see_padded_seq(1, train_labels, training_label_seq)\n",
    "print(\"------------------------------------------------------------------------------------------------\")\n",
    "print(\"\\n\\nVALIDATION\\n\")\n",
    "see_padded_seq(1, validation_labels, validation_label_seq)\n",
    "print(len(set(train_labels)))"
   ]
  },
  {
   "cell_type": "code",
   "execution_count": 17,
   "metadata": {},
   "outputs": [
    {
     "name": "stdout",
     "output_type": "stream",
     "text": [
      "Model: \"sequential\"\n",
      "_________________________________________________________________\n",
      "Layer (type)                 Output Shape              Param #   \n",
      "=================================================================\n",
      "embedding (Embedding)        (None, 200, 64)           640000    \n",
      "_________________________________________________________________\n",
      "global_average_pooling1d (Gl (None, 64)                0         \n",
      "_________________________________________________________________\n",
      "dense (Dense)                (None, 64)                4160      \n",
      "_________________________________________________________________\n",
      "dense_1 (Dense)              (None, 11)                715       \n",
      "=================================================================\n",
      "Total params: 644,875\n",
      "Trainable params: 644,875\n",
      "Non-trainable params: 0\n",
      "_________________________________________________________________\n"
     ]
    }
   ],
   "source": [
    "model = tf.keras.Sequential([\n",
    "    tf.keras.layers.Embedding(vocab_size, embedding_dim, input_length=max_length),\n",
    "    tf.keras.layers.GlobalAveragePooling1D(),\n",
    "    tf.keras.layers.Dense(64, activation='relu'),\n",
    "    tf.keras.layers.Dense(11, activation='softmax')\n",
    "])\n",
    "\n",
    "model.compile(loss='sparse_categorical_crossentropy',optimizer='adam',metrics=['acc'])\n",
    "model.summary()"
   ]
  },
  {
   "cell_type": "code",
   "execution_count": 18,
   "metadata": {},
   "outputs": [
    {
     "name": "stderr",
     "output_type": "stream",
     "text": [
      "WARNING: Logging before flag parsing goes to stderr.\n",
      "W0808 18:48:20.312674 139891900655424 deprecation.py:323] From /home/ec2-user/anaconda3/envs/tensorflow_p36/lib/python3.6/site-packages/tensorflow/python/ops/math_grad.py:1250: add_dispatch_support.<locals>.wrapper (from tensorflow.python.ops.array_ops) is deprecated and will be removed in a future version.\n",
      "Instructions for updating:\n",
      "Use tf.where in 2.0, which has the same broadcast rule as np.where\n"
     ]
    },
    {
     "name": "stdout",
     "output_type": "stream",
     "text": [
      "Train on 15257 samples, validate on 1696 samples\n",
      "Epoch 1/30\n",
      "15257/15257 [==============================] - 4s 251us/sample - loss: 2.0324 - acc: 0.3005 - val_loss: 1.6954 - val_acc: 0.4599\n",
      "Epoch 2/30\n",
      "15257/15257 [==============================] - 3s 204us/sample - loss: 1.4054 - acc: 0.5802 - val_loss: 1.1555 - val_acc: 0.6415\n",
      "Epoch 3/30\n",
      "15257/15257 [==============================] - 3s 204us/sample - loss: 1.0084 - acc: 0.6909 - val_loss: 0.9140 - val_acc: 0.7005\n",
      "Epoch 4/30\n",
      "15257/15257 [==============================] - 3s 203us/sample - loss: 0.8008 - acc: 0.7371 - val_loss: 0.7822 - val_acc: 0.7364\n",
      "Epoch 5/30\n",
      "15257/15257 [==============================] - 3s 203us/sample - loss: 0.6700 - acc: 0.7591 - val_loss: 0.7047 - val_acc: 0.7311\n",
      "Epoch 6/30\n",
      "15257/15257 [==============================] - 3s 203us/sample - loss: 0.5817 - acc: 0.7747 - val_loss: 0.6526 - val_acc: 0.7376\n",
      "Epoch 7/30\n",
      "15257/15257 [==============================] - 3s 205us/sample - loss: 0.5154 - acc: 0.7883 - val_loss: 0.6402 - val_acc: 0.7329\n",
      "Epoch 8/30\n",
      "15257/15257 [==============================] - 3s 203us/sample - loss: 0.4721 - acc: 0.7929 - val_loss: 0.6092 - val_acc: 0.7329\n",
      "Epoch 9/30\n",
      "15257/15257 [==============================] - 3s 202us/sample - loss: 0.4361 - acc: 0.7999 - val_loss: 0.6088 - val_acc: 0.7193\n",
      "Epoch 10/30\n",
      "15257/15257 [==============================] - 3s 203us/sample - loss: 0.4092 - acc: 0.8033 - val_loss: 0.6140 - val_acc: 0.7129\n",
      "Epoch 11/30\n",
      "15257/15257 [==============================] - 3s 202us/sample - loss: 0.3861 - acc: 0.8085 - val_loss: 0.6136 - val_acc: 0.7040\n",
      "Epoch 12/30\n",
      "15257/15257 [==============================] - 3s 202us/sample - loss: 0.3676 - acc: 0.8139 - val_loss: 0.6333 - val_acc: 0.6922\n",
      "Epoch 13/30\n",
      "15257/15257 [==============================] - 3s 203us/sample - loss: 0.3549 - acc: 0.8124 - val_loss: 0.6328 - val_acc: 0.6981\n",
      "Epoch 14/30\n",
      "15257/15257 [==============================] - 3s 202us/sample - loss: 0.3410 - acc: 0.8148 - val_loss: 0.6453 - val_acc: 0.6958\n",
      "Epoch 15/30\n",
      "15257/15257 [==============================] - 3s 202us/sample - loss: 0.3286 - acc: 0.8169 - val_loss: 0.6486 - val_acc: 0.6857\n",
      "Epoch 16/30\n",
      "15257/15257 [==============================] - 3s 201us/sample - loss: 0.3191 - acc: 0.8181 - val_loss: 0.6559 - val_acc: 0.6745\n",
      "Epoch 17/30\n",
      "15257/15257 [==============================] - 3s 202us/sample - loss: 0.3109 - acc: 0.8175 - val_loss: 0.6620 - val_acc: 0.6781\n",
      "Epoch 18/30\n",
      "15257/15257 [==============================] - 3s 203us/sample - loss: 0.3033 - acc: 0.8199 - val_loss: 0.6806 - val_acc: 0.6728\n",
      "Epoch 19/30\n",
      "15257/15257 [==============================] - 3s 203us/sample - loss: 0.2976 - acc: 0.8239 - val_loss: 0.6821 - val_acc: 0.6739\n",
      "Epoch 20/30\n",
      "15257/15257 [==============================] - 3s 203us/sample - loss: 0.2900 - acc: 0.8247 - val_loss: 0.6980 - val_acc: 0.6663\n",
      "Epoch 21/30\n",
      "15257/15257 [==============================] - 3s 205us/sample - loss: 0.2878 - acc: 0.8246 - val_loss: 0.7239 - val_acc: 0.6580\n",
      "Epoch 22/30\n",
      "15257/15257 [==============================] - 3s 204us/sample - loss: 0.2850 - acc: 0.8249 - val_loss: 0.7265 - val_acc: 0.6598\n",
      "Epoch 23/30\n",
      "15257/15257 [==============================] - 3s 204us/sample - loss: 0.2783 - acc: 0.8266 - val_loss: 0.7348 - val_acc: 0.6598\n",
      "Epoch 24/30\n",
      "15257/15257 [==============================] - 3s 203us/sample - loss: 0.2750 - acc: 0.8224 - val_loss: 0.7550 - val_acc: 0.6633\n",
      "Epoch 25/30\n",
      "15257/15257 [==============================] - 3s 202us/sample - loss: 0.2724 - acc: 0.8270 - val_loss: 0.7757 - val_acc: 0.6515\n",
      "Epoch 26/30\n",
      "15257/15257 [==============================] - 3s 201us/sample - loss: 0.2694 - acc: 0.8253 - val_loss: 0.7745 - val_acc: 0.6568\n",
      "Epoch 27/30\n",
      "15257/15257 [==============================] - 3s 203us/sample - loss: 0.2658 - acc: 0.8294 - val_loss: 0.8360 - val_acc: 0.6739\n",
      "Epoch 28/30\n",
      "15257/15257 [==============================] - 3s 205us/sample - loss: 0.2650 - acc: 0.8316 - val_loss: 0.8215 - val_acc: 0.6521\n",
      "Epoch 29/30\n",
      "15257/15257 [==============================] - 3s 206us/sample - loss: 0.2628 - acc: 0.8282 - val_loss: 0.8242 - val_acc: 0.6427\n",
      "Epoch 30/30\n",
      "15257/15257 [==============================] - 3s 203us/sample - loss: 0.2607 - acc: 0.8265 - val_loss: 0.8270 - val_acc: 0.6474\n"
     ]
    }
   ],
   "source": [
    "history = model.fit(train_padded, training_label_seq, \n",
    "                    epochs=30, \n",
    "                    validation_data=(validation_padded, validation_label_seq), \n",
    "                    verbose=1)"
   ]
  },
  {
   "cell_type": "code",
   "execution_count": 20,
   "metadata": {},
   "outputs": [
    {
     "data": {
      "image/png": "[encoded data removed]",
      "text/plain": [
       "<Figure size 432x288 with 1 Axes>"
      ]
     },
     "metadata": {},
     "output_type": "display_data"
    },
    {
     "data": {
      "image/png": "[encoded data removed]",
      "text/plain": [
       "<Figure size 432x288 with 1 Axes>"
      ]
     },
     "metadata": {},
     "output_type": "display_data"
    }
   ],
   "source": [
    "import matplotlib.pyplot as plt\n",
    "\n",
    "\n",
    "def plot_graphs(history, string):\n",
    "    plt.plot(history.history[string])\n",
    "    plt.plot(history.history['val_'+string])\n",
    "    plt.xlabel(\"Epochs\")\n",
    "    plt.ylabel(string)\n",
    "    plt.legend([string, 'val_'+string])\n",
    "    plt.show()\n",
    "\n",
    "plot_graphs(history, 'acc')\n",
    "plot_graphs(history, 'loss')"
   ]
  },
  {
   "cell_type": "code",
   "execution_count": 21,
   "metadata": {},
   "outputs": [],
   "source": [
    "reverse_word_index = dict([(value, key) for (key, value) in word_index.items()])\n",
    "\n",
    "def decode_sentence(text):\n",
    "    return ' '.join([reverse_word_index.get(i, '?') for i in text])"
   ]
  },
  {
   "cell_type": "code",
   "execution_count": 23,
   "metadata": {},
   "outputs": [
    {
     "name": "stdout",
     "output_type": "stream",
     "text": [
      "(10000, 64)\n"
     ]
    }
   ],
   "source": [
    "e = model.layers[0]\n",
    "weights = e.get_weights()[0]\n",
    "print(weights.shape) # shape: (vocab_size, embedding_dim)"
   ]
  },
  {
   "cell_type": "code",
   "execution_count": 24,
   "metadata": {},
   "outputs": [],
   "source": [
    "def save_vecs_meta(reverse_word_index, vocab_size, weights):\n",
    "    out_v = io.open('vecs.tsv', 'w', encoding='utf-8')\n",
    "    out_m = io.open('meta.tsv', 'w', encoding='utf-8')\n",
    "    \n",
    "    for word_num in range(1, vocab_size):\n",
    "        word = reverse_word_index[word_num]\n",
    "        embeddings = weights[word_num]\n",
    "        out_m.write(word + \"\\n\")\n",
    "        out_v.write('\\t'.join([str(x) for x in embeddings]) + \"\\n\")\n",
    "    \n",
    "    out_v.close()\n",
    "    out_m.close()"
   ]
  },
  {
   "cell_type": "code",
   "execution_count": 25,
   "metadata": {},
   "outputs": [],
   "source": [
    "save_vecs_meta(reverse_word_index, vocab_size, weights)"
   ]
  },
  {
   "cell_type": "code",
   "execution_count": null,
   "metadata": {},
   "outputs": [],
   "source": []
  }
 ],
 "metadata": {
  "kernelspec": {
   "display_name": "Python [conda env:tensorflow_p36]",
   "language": "python",
   "name": "conda-env-tensorflow_p36-py"
  },
  "language_info": {
   "codemirror_mode": {
    "name": "ipython",
    "version": 3
   },
   "file_extension": ".py",
   "mimetype": "text/x-python",
   "name": "python",
   "nbconvert_exporter": "python",
   "pygments_lexer": "ipython3",
   "version": "3.6.5"
  }
 },
 "nbformat": 4,
 "nbformat_minor": 2
}
