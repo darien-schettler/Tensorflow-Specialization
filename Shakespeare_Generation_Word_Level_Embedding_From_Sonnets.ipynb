{
  "nbformat": 4,
  "nbformat_minor": 0,
  "metadata": {
    "colab": {
      "name": "Copy of NLP_Week4_Exercise_Shakespeare_Answer.ipynb",
      "version": "0.3.2",
      "provenance": [],
      "include_colab_link": true
    },
    "kernelspec": {
      "name": "python2",
      "display_name": "Python 2"
    },
    "accelerator": "GPU"
  },
  "cells": [
    {
      "cell_type": "markdown",
      "metadata": {
        "id": "view-in-github",
        "colab_type": "text"
      },
      "source": [
        "<a href=\"https://colab.research.google.com/github/darien-schettler/Tensorflow-Specialization/blob/master/Shakespeare_Generation_Word_Level_Embedding_From_Sonnets.ipynb\" target=\"_parent\"><img src=\"https://colab.research.google.com/assets/colab-badge.svg\" alt=\"Open In Colab\"/></a>"
      ]
    },
    {
      "cell_type": "code",
      "metadata": {
        "id": "BOwsuGQQY9OL",
        "colab_type": "code",
        "colab": {}
      },
      "source": [
        "from tensorflow.keras.preprocessing.sequence import pad_sequences\n",
        "from tensorflow.keras.layers import Embedding, LSTM, Dense, Dropout, Bidirectional\n",
        "from tensorflow.keras.preprocessing.text import Tokenizer\n",
        "from tensorflow.keras.models import Sequential\n",
        "from tensorflow.keras.optimizers import Adam\n",
        "from tensorflow.keras import regularizers\n",
        "import tensorflow.keras.utils as ku \n",
        "import numpy as np "
      ],
      "execution_count": 0,
      "outputs": []
    },
    {
      "cell_type": "code",
      "metadata": {
        "colab_type": "code",
        "id": "PRnDnCW-Z7qv",
        "outputId": "18c0a977-aa65-4e42-8c00-228e763692db",
        "colab": {
          "base_uri": "https://localhost:8080/",
          "height": 209
        }
      },
      "source": [
        "tokenizer = Tokenizer()\n",
        "!wget --no-check-certificate \\\n",
        "    https://storage.googleapis.com/laurencemoroney-blog.appspot.com/sonnets.txt \\\n",
        "    -O /tmp/sonnets.txt\n",
        "data = open('/tmp/sonnets.txt').read()\n",
        "\n",
        "corpus = data.lower().split(\"\\n\")\n",
        "\n",
        "\n",
        "tokenizer.fit_on_texts(corpus)\n",
        "total_words = len(tokenizer.word_index) + 1\n",
        "\n",
        "# create input sequences using list of tokens\n",
        "input_sequences = []\n",
        "for line in corpus:\n",
        "\ttoken_list = tokenizer.texts_to_sequences([line])[0]\n",
        "\tfor i in range(1, len(token_list)):\n",
        "\t\tn_gram_sequence = token_list[:i+1]\n",
        "\t\tinput_sequences.append(n_gram_sequence)\n",
        "\n",
        "\n",
        "# pad sequences \n",
        "max_sequence_len = max([len(x) for x in input_sequences])\n",
        "input_sequences = np.array(pad_sequences(input_sequences, maxlen=max_sequence_len, padding='pre'))\n",
        "\n",
        "# create predictors and label\n",
        "predictors, label = input_sequences[:,:-1],input_sequences[:,-1]\n",
        "\n",
        "label = ku.to_categorical(label, num_classes=total_words)"
      ],
      "execution_count": 0,
      "outputs": [
        {
          "output_type": "stream",
          "text": [
            "--2019-08-08 19:25:39--  https://storage.googleapis.com/laurencemoroney-blog.appspot.com/sonnets.txt\n",
            "Resolving storage.googleapis.com (storage.googleapis.com)... 172.217.194.128, 2404:6800:4003:c04::80\n",
            "Connecting to storage.googleapis.com (storage.googleapis.com)|172.217.194.128|:443... connected.\n",
            "HTTP request sent, awaiting response... 200 OK\n",
            "Length: 93578 (91K) [text/plain]\n",
            "Saving to: ‘/tmp/sonnets.txt’\n",
            "\n",
            "\r/tmp/sonnets.txt      0%[                    ]       0  --.-KB/s               \r/tmp/sonnets.txt    100%[===================>]  91.38K  --.-KB/s    in 0.001s  \n",
            "\n",
            "2019-08-08 19:25:39 (123 MB/s) - ‘/tmp/sonnets.txt’ saved [93578/93578]\n",
            "\n"
          ],
          "name": "stdout"
        }
      ]
    },
    {
      "cell_type": "code",
      "metadata": {
        "id": "w9vH8Y59ajYL",
        "colab_type": "code",
        "outputId": "07dc0833-d666-4e87-e3ab-d1af7af3cc5a",
        "colab": {
          "base_uri": "https://localhost:8080/",
          "height": 684
        }
      },
      "source": [
        "model = Sequential()\n",
        "model.add(Embedding(total_words, 100, input_length=max_sequence_len-1))\n",
        "model.add(Bidirectional(LSTM(150, return_sequences = True)))\n",
        "model.add(Dropout(0.2))\n",
        "model.add(LSTM(100))\n",
        "model.add(Dense(total_words/2, activation='relu', kernel_regularizer=regularizers.l2(0.01)))\n",
        "model.add(Dense(total_words, activation='softmax'))\n",
        "model.compile(loss='categorical_crossentropy', optimizer='adam', metrics=['accuracy'])\n",
        "print(model.summary())\n"
      ],
      "execution_count": 0,
      "outputs": [
        {
          "output_type": "stream",
          "text": [
            "WARNING: Logging before flag parsing goes to stderr.\n",
            "W0808 19:25:42.968641 139746057021312 deprecation.py:506] From /usr/local/lib/python2.7/dist-packages/tensorflow/python/keras/initializers.py:119: calling __init__ (from tensorflow.python.ops.init_ops) with dtype is deprecated and will be removed in a future version.\n",
            "Instructions for updating:\n",
            "Call initializer instance with the dtype argument instead of passing it to the constructor\n",
            "W0808 19:25:42.996490 139746057021312 deprecation.py:506] From /usr/local/lib/python2.7/dist-packages/tensorflow/python/ops/init_ops.py:1251: calling __init__ (from tensorflow.python.ops.init_ops) with dtype is deprecated and will be removed in a future version.\n",
            "Instructions for updating:\n",
            "Call initializer instance with the dtype argument instead of passing it to the constructor\n",
            "W0808 19:25:43.004738 139746057021312 deprecation.py:506] From /usr/local/lib/python2.7/dist-packages/tensorflow/python/ops/init_ops.py:97: calling __init__ (from tensorflow.python.ops.init_ops) with dtype is deprecated and will be removed in a future version.\n",
            "Instructions for updating:\n",
            "Call initializer instance with the dtype argument instead of passing it to the constructor\n",
            "W0808 19:25:43.006128 139746057021312 deprecation.py:506] From /usr/local/lib/python2.7/dist-packages/tensorflow/python/ops/init_ops.py:97: calling __init__ (from tensorflow.python.ops.init_ops) with dtype is deprecated and will be removed in a future version.\n",
            "Instructions for updating:\n",
            "Call initializer instance with the dtype argument instead of passing it to the constructor\n",
            "W0808 19:25:43.007328 139746057021312 deprecation.py:506] From /usr/local/lib/python2.7/dist-packages/tensorflow/python/ops/init_ops.py:97: calling __init__ (from tensorflow.python.ops.init_ops) with dtype is deprecated and will be removed in a future version.\n",
            "Instructions for updating:\n",
            "Call initializer instance with the dtype argument instead of passing it to the constructor\n"
          ],
          "name": "stderr"
        },
        {
          "output_type": "stream",
          "text": [
            "Model: \"sequential\"\n",
            "_________________________________________________________________\n",
            "Layer (type)                 Output Shape              Param #   \n",
            "=================================================================\n",
            "embedding (Embedding)        (None, 10, 100)           321100    \n",
            "_________________________________________________________________\n",
            "bidirectional (Bidirectional (None, 10, 300)           301200    \n",
            "_________________________________________________________________\n",
            "dropout (Dropout)            (None, 10, 300)           0         \n",
            "_________________________________________________________________\n",
            "lstm_1 (LSTM)                (None, 100)               160400    \n",
            "_________________________________________________________________\n",
            "dense (Dense)                (None, 1605)              162105    \n",
            "_________________________________________________________________\n",
            "dense_1 (Dense)              (None, 3211)              5156866   \n",
            "=================================================================\n",
            "Total params: 6,101,671\n",
            "Trainable params: 6,101,671\n",
            "Non-trainable params: 0\n",
            "_________________________________________________________________\n",
            "None\n"
          ],
          "name": "stdout"
        }
      ]
    },
    {
      "cell_type": "code",
      "metadata": {
        "id": "AIg2f1HBxqof",
        "colab_type": "code",
        "outputId": "56402439-dab7-4140-8a3e-c61c06f80351",
        "colab": {
          "base_uri": "https://localhost:8080/",
          "height": 1000
        }
      },
      "source": [
        " history = model.fit(predictors, label, epochs=100, verbose=1)"
      ],
      "execution_count": 0,
      "outputs": [
        {
          "output_type": "stream",
          "text": [
            "W0808 19:25:46.063796 139746057021312 deprecation.py:323] From /usr/local/lib/python2.7/dist-packages/tensorflow/python/ops/math_grad.py:1250: where (from tensorflow.python.ops.array_ops) is deprecated and will be removed in a future version.\n",
            "Instructions for updating:\n",
            "Use tf.where in 2.0, which has the same broadcast rule as np.where\n"
          ],
          "name": "stderr"
        },
        {
          "output_type": "stream",
          "text": [
            "Epoch 1/100\n",
            "15462/15462 [==============================] - 27s 2ms/sample - loss: 6.8984 - acc: 0.0212\n",
            "Epoch 2/100\n",
            "15462/15462 [==============================] - 25s 2ms/sample - loss: 6.4977 - acc: 0.0235\n",
            "Epoch 3/100\n",
            "15462/15462 [==============================] - 25s 2ms/sample - loss: 6.3829 - acc: 0.0266\n",
            "Epoch 4/100\n",
            "15462/15462 [==============================] - 25s 2ms/sample - loss: 6.2623 - acc: 0.0314\n",
            "Epoch 5/100\n",
            "15462/15462 [==============================] - 25s 2ms/sample - loss: 6.1772 - acc: 0.0361\n",
            "Epoch 6/100\n",
            "15462/15462 [==============================] - 25s 2ms/sample - loss: 6.0915 - acc: 0.0380\n",
            "Epoch 7/100\n",
            "15462/15462 [==============================] - 25s 2ms/sample - loss: 6.0125 - acc: 0.0411\n",
            "Epoch 8/100\n",
            "15462/15462 [==============================] - 25s 2ms/sample - loss: 5.9204 - acc: 0.0438\n",
            "Epoch 9/100\n",
            "15462/15462 [==============================] - 25s 2ms/sample - loss: 5.8231 - acc: 0.0495\n",
            "Epoch 10/100\n",
            "15462/15462 [==============================] - 25s 2ms/sample - loss: 5.7097 - acc: 0.0566\n",
            "Epoch 11/100\n",
            "15462/15462 [==============================] - 25s 2ms/sample - loss: 5.5973 - acc: 0.0640\n",
            "Epoch 12/100\n",
            "15462/15462 [==============================] - 25s 2ms/sample - loss: 5.4833 - acc: 0.0717\n",
            "Epoch 13/100\n",
            "15462/15462 [==============================] - 25s 2ms/sample - loss: 5.3715 - acc: 0.0746\n",
            "Epoch 14/100\n",
            "15462/15462 [==============================] - 25s 2ms/sample - loss: 5.2618 - acc: 0.0830\n",
            "Epoch 15/100\n",
            "15462/15462 [==============================] - 25s 2ms/sample - loss: 5.1528 - acc: 0.0893\n",
            "Epoch 16/100\n",
            "15462/15462 [==============================] - 25s 2ms/sample - loss: 5.0447 - acc: 0.0971\n",
            "Epoch 17/100\n",
            "15462/15462 [==============================] - 25s 2ms/sample - loss: 4.9398 - acc: 0.1034\n",
            "Epoch 18/100\n",
            "15462/15462 [==============================] - 25s 2ms/sample - loss: 4.8325 - acc: 0.1156\n",
            "Epoch 19/100\n",
            "15462/15462 [==============================] - 25s 2ms/sample - loss: 4.7236 - acc: 0.1208\n",
            "Epoch 20/100\n",
            "15462/15462 [==============================] - 25s 2ms/sample - loss: 4.6205 - acc: 0.1336\n",
            "Epoch 21/100\n",
            "15462/15462 [==============================] - 25s 2ms/sample - loss: 4.5196 - acc: 0.1447\n",
            "Epoch 22/100\n",
            "15462/15462 [==============================] - 25s 2ms/sample - loss: 4.4092 - acc: 0.1560\n",
            "Epoch 23/100\n",
            "15462/15462 [==============================] - 25s 2ms/sample - loss: 4.3073 - acc: 0.1689\n",
            "Epoch 24/100\n",
            "15462/15462 [==============================] - 25s 2ms/sample - loss: 4.2076 - acc: 0.1800\n",
            "Epoch 25/100\n",
            "15462/15462 [==============================] - 25s 2ms/sample - loss: 4.1054 - acc: 0.1945\n",
            "Epoch 26/100\n",
            "15462/15462 [==============================] - 25s 2ms/sample - loss: 4.0014 - acc: 0.2091\n",
            "Epoch 27/100\n",
            "15462/15462 [==============================] - 25s 2ms/sample - loss: 3.9018 - acc: 0.2261\n",
            "Epoch 28/100\n",
            "15462/15462 [==============================] - 25s 2ms/sample - loss: 3.7920 - acc: 0.2429\n",
            "Epoch 29/100\n",
            "15462/15462 [==============================] - 25s 2ms/sample - loss: 3.6997 - acc: 0.2586\n",
            "Epoch 30/100\n",
            "15462/15462 [==============================] - 24s 2ms/sample - loss: 3.6016 - acc: 0.2761\n",
            "Epoch 31/100\n",
            "15462/15462 [==============================] - 25s 2ms/sample - loss: 3.5118 - acc: 0.2967\n",
            "Epoch 32/100\n",
            "15462/15462 [==============================] - 25s 2ms/sample - loss: 3.4223 - acc: 0.3199\n",
            "Epoch 33/100\n",
            "15462/15462 [==============================] - 24s 2ms/sample - loss: 3.3281 - acc: 0.3428\n",
            "Epoch 34/100\n",
            "15462/15462 [==============================] - 25s 2ms/sample - loss: 3.2552 - acc: 0.3612\n",
            "Epoch 35/100\n",
            "15462/15462 [==============================] - 25s 2ms/sample - loss: 3.1733 - acc: 0.3760\n",
            "Epoch 36/100\n",
            "15462/15462 [==============================] - 25s 2ms/sample - loss: 3.0840 - acc: 0.3983\n",
            "Epoch 37/100\n",
            "15462/15462 [==============================] - 25s 2ms/sample - loss: 3.0124 - acc: 0.4153\n",
            "Epoch 38/100\n",
            "15462/15462 [==============================] - 24s 2ms/sample - loss: 2.9277 - acc: 0.4363\n",
            "Epoch 39/100\n",
            "15462/15462 [==============================] - 25s 2ms/sample - loss: 2.8530 - acc: 0.4483\n",
            "Epoch 40/100\n",
            "15462/15462 [==============================] - 24s 2ms/sample - loss: 2.7903 - acc: 0.4646\n",
            "Epoch 41/100\n",
            "15462/15462 [==============================] - 24s 2ms/sample - loss: 2.7277 - acc: 0.4798\n",
            "Epoch 42/100\n",
            "15462/15462 [==============================] - 25s 2ms/sample - loss: 2.6599 - acc: 0.4941\n",
            "Epoch 43/100\n",
            "15462/15462 [==============================] - 24s 2ms/sample - loss: 2.6075 - acc: 0.5065\n",
            "Epoch 44/100\n",
            "15462/15462 [==============================] - 24s 2ms/sample - loss: 2.5321 - acc: 0.5207\n",
            "Epoch 45/100\n",
            "15462/15462 [==============================] - 25s 2ms/sample - loss: 2.4796 - acc: 0.5345\n",
            "Epoch 46/100\n",
            "15462/15462 [==============================] - 25s 2ms/sample - loss: 2.4306 - acc: 0.5468\n",
            "Epoch 47/100\n",
            "15462/15462 [==============================] - 24s 2ms/sample - loss: 2.3749 - acc: 0.5583\n",
            "Epoch 48/100\n",
            "15462/15462 [==============================] - 25s 2ms/sample - loss: 2.3181 - acc: 0.5691\n",
            "Epoch 49/100\n",
            "15462/15462 [==============================] - 25s 2ms/sample - loss: 2.2737 - acc: 0.5789\n",
            "Epoch 50/100\n",
            "15462/15462 [==============================] - 24s 2ms/sample - loss: 2.2302 - acc: 0.5865\n",
            "Epoch 51/100\n",
            "15462/15462 [==============================] - 24s 2ms/sample - loss: 2.2011 - acc: 0.5974\n",
            "Epoch 52/100\n",
            "15462/15462 [==============================] - 25s 2ms/sample - loss: 2.1387 - acc: 0.6119\n",
            "Epoch 53/100\n",
            "15462/15462 [==============================] - 24s 2ms/sample - loss: 2.0950 - acc: 0.6211\n",
            "Epoch 54/100\n",
            "15462/15462 [==============================] - 24s 2ms/sample - loss: 2.0582 - acc: 0.6305\n",
            "Epoch 55/100\n",
            "15462/15462 [==============================] - 25s 2ms/sample - loss: 2.0140 - acc: 0.6405\n",
            "Epoch 56/100\n",
            "15462/15462 [==============================] - 25s 2ms/sample - loss: 1.9696 - acc: 0.6462\n",
            "Epoch 57/100\n",
            "15462/15462 [==============================] - 25s 2ms/sample - loss: 1.9447 - acc: 0.6519\n",
            "Epoch 58/100\n",
            "15462/15462 [==============================] - 25s 2ms/sample - loss: 1.9180 - acc: 0.6579\n",
            "Epoch 59/100\n",
            "15462/15462 [==============================] - 25s 2ms/sample - loss: 1.8778 - acc: 0.6640\n",
            "Epoch 60/100\n",
            "15462/15462 [==============================] - 25s 2ms/sample - loss: 1.8485 - acc: 0.6705\n",
            "Epoch 61/100\n",
            "15462/15462 [==============================] - 25s 2ms/sample - loss: 1.8094 - acc: 0.6795\n",
            "Epoch 62/100\n",
            "15462/15462 [==============================] - 25s 2ms/sample - loss: 1.7774 - acc: 0.6856\n",
            "Epoch 63/100\n",
            "15462/15462 [==============================] - 24s 2ms/sample - loss: 1.7607 - acc: 0.6886\n",
            "Epoch 64/100\n",
            "15462/15462 [==============================] - 25s 2ms/sample - loss: 1.7283 - acc: 0.6958\n",
            "Epoch 65/100\n",
            "15462/15462 [==============================] - 25s 2ms/sample - loss: 1.6783 - acc: 0.7108\n",
            "Epoch 66/100\n",
            "15462/15462 [==============================] - 25s 2ms/sample - loss: 1.6607 - acc: 0.7118\n",
            "Epoch 67/100\n",
            "15462/15462 [==============================] - 24s 2ms/sample - loss: 1.6368 - acc: 0.7185\n",
            "Epoch 68/100\n",
            "15462/15462 [==============================] - 25s 2ms/sample - loss: 1.6178 - acc: 0.7201\n",
            "Epoch 69/100\n",
            "15462/15462 [==============================] - 24s 2ms/sample - loss: 1.5901 - acc: 0.7248\n",
            "Epoch 70/100\n",
            "15462/15462 [==============================] - 24s 2ms/sample - loss: 1.5665 - acc: 0.7282\n",
            "Epoch 71/100\n",
            "15462/15462 [==============================] - 25s 2ms/sample - loss: 1.5488 - acc: 0.7333\n",
            "Epoch 72/100\n",
            "15462/15462 [==============================] - 25s 2ms/sample - loss: 1.5148 - acc: 0.7387\n",
            "Epoch 73/100\n",
            "15462/15462 [==============================] - 24s 2ms/sample - loss: 1.5078 - acc: 0.7361\n",
            "Epoch 74/100\n",
            "15462/15462 [==============================] - 25s 2ms/sample - loss: 1.4893 - acc: 0.7408\n",
            "Epoch 75/100\n",
            "15462/15462 [==============================] - 25s 2ms/sample - loss: 1.4693 - acc: 0.7478\n",
            "Epoch 76/100\n",
            "15462/15462 [==============================] - 25s 2ms/sample - loss: 1.4380 - acc: 0.7548\n",
            "Epoch 77/100\n",
            "15462/15462 [==============================] - 25s 2ms/sample - loss: 1.4250 - acc: 0.7551\n",
            "Epoch 78/100\n",
            "15462/15462 [==============================] - 25s 2ms/sample - loss: 1.4010 - acc: 0.7604\n",
            "Epoch 79/100\n",
            "15462/15462 [==============================] - 25s 2ms/sample - loss: 1.3875 - acc: 0.7641\n",
            "Epoch 80/100\n",
            "15462/15462 [==============================] - 24s 2ms/sample - loss: 1.3711 - acc: 0.7632\n",
            "Epoch 81/100\n",
            "15462/15462 [==============================] - 25s 2ms/sample - loss: 1.3614 - acc: 0.7652\n",
            "Epoch 82/100\n",
            "15462/15462 [==============================] - 25s 2ms/sample - loss: 1.3412 - acc: 0.7711\n",
            "Epoch 83/100\n",
            "15462/15462 [==============================] - 25s 2ms/sample - loss: 1.3153 - acc: 0.7740\n",
            "Epoch 84/100\n",
            "15462/15462 [==============================] - 25s 2ms/sample - loss: 1.3036 - acc: 0.7774\n",
            "Epoch 85/100\n",
            "15462/15462 [==============================] - 25s 2ms/sample - loss: 1.3005 - acc: 0.7747\n",
            "Epoch 86/100\n",
            "15462/15462 [==============================] - 24s 2ms/sample - loss: 1.2932 - acc: 0.7774\n",
            "Epoch 87/100\n",
            "15462/15462 [==============================] - 25s 2ms/sample - loss: 1.2683 - acc: 0.7829\n",
            "Epoch 88/100\n",
            "15462/15462 [==============================] - 25s 2ms/sample - loss: 1.2546 - acc: 0.7846\n",
            "Epoch 89/100\n",
            "15462/15462 [==============================] - 25s 2ms/sample - loss: 1.2625 - acc: 0.7794\n",
            "Epoch 90/100\n",
            "15462/15462 [==============================] - 25s 2ms/sample - loss: 1.2412 - acc: 0.7871\n",
            "Epoch 91/100\n",
            "15462/15462 [==============================] - 25s 2ms/sample - loss: 1.2189 - acc: 0.7893\n",
            "Epoch 92/100\n",
            "15462/15462 [==============================] - 24s 2ms/sample - loss: 1.1959 - acc: 0.7951\n",
            "Epoch 93/100\n",
            "15462/15462 [==============================] - 25s 2ms/sample - loss: 1.1999 - acc: 0.7916\n",
            "Epoch 94/100\n",
            "15462/15462 [==============================] - 25s 2ms/sample - loss: 1.1751 - acc: 0.7991\n",
            "Epoch 95/100\n",
            "15462/15462 [==============================] - 25s 2ms/sample - loss: 1.1760 - acc: 0.7949\n",
            "Epoch 96/100\n",
            "15462/15462 [==============================] - 25s 2ms/sample - loss: 1.1729 - acc: 0.7967\n",
            "Epoch 97/100\n",
            "15462/15462 [==============================] - 25s 2ms/sample - loss: 1.1592 - acc: 0.7969\n",
            "Epoch 98/100\n",
            "15462/15462 [==============================] - 25s 2ms/sample - loss: 1.1486 - acc: 0.8000\n",
            "Epoch 99/100\n",
            "15462/15462 [==============================] - 24s 2ms/sample - loss: 1.1404 - acc: 0.8025\n",
            "Epoch 100/100\n",
            "15462/15462 [==============================] - 24s 2ms/sample - loss: 1.1185 - acc: 0.8072\n"
          ],
          "name": "stdout"
        }
      ]
    },
    {
      "cell_type": "code",
      "metadata": {
        "id": "1fXTEO3GJ282",
        "colab_type": "code",
        "outputId": "9dc47c60-df4b-46a4-ed38-5b798b177e50",
        "colab": {
          "base_uri": "https://localhost:8080/",
          "height": 545
        }
      },
      "source": [
        "import matplotlib.pyplot as plt\n",
        "acc = history.history['acc']\n",
        "loss = history.history['loss']\n",
        "\n",
        "epochs = range(len(acc))\n",
        "\n",
        "plt.plot(epochs, acc, 'b', label='Training accuracy')\n",
        "plt.title('Training accuracy')\n",
        "\n",
        "plt.figure()\n",
        "\n",
        "plt.plot(epochs, loss, 'b', label='Training Loss')\n",
        "plt.title('Training loss')\n",
        "plt.legend()\n",
        "\n",
        "plt.show()"
      ],
      "execution_count": 0,
      "outputs": [
        {
          "output_type": "display_data",
          "data": {
            "image/png": "[encoded data removed]",
            "text/plain": [
              "<Figure size 432x288 with 1 Axes>"
            ]
          },
          "metadata": {
            "tags": []
          }
        },
        {
          "output_type": "display_data",
          "data": {
            "image/png": "[encoded data removed]",
            "text/plain": [
              "<Figure size 432x288 with 1 Axes>"
            ]
          },
          "metadata": {
            "tags": []
          }
        }
      ]
    },
    {
      "cell_type": "code",
      "metadata": {
        "id": "6Vc6PHgxa6Hm",
        "colab_type": "code",
        "outputId": "a2f9e0d9-e91b-48bc-e297-98b53f488f09",
        "colab": {
          "base_uri": "https://localhost:8080/",
          "height": 54
        }
      },
      "source": [
        "seed_text = \"Help me Obi Wan Kenobi, you're my only hope\"\n",
        "next_words = 100\n",
        "  \n",
        "for _ in range(next_words):\n",
        "\ttoken_list = tokenizer.texts_to_sequences([seed_text])[0]\n",
        "\ttoken_list = pad_sequences([token_list], maxlen=max_sequence_len-1, padding='pre')\n",
        "\tpredicted = model.predict_classes(token_list, verbose=0)\n",
        "\toutput_word = \"\"\n",
        "\tfor word, index in tokenizer.word_index.items():\n",
        "\t\tif index == predicted:\n",
        "\t\t\toutput_word = word\n",
        "\t\t\tbreak\n",
        "\tseed_text += \" \" + output_word\n",
        "print(seed_text)"
      ],
      "execution_count": 0,
      "outputs": [
        {
          "output_type": "stream",
          "text": [
            "Help me Obi Wan Kenobi, you're my only hope that ten times kiss me hast pleasure remember'd time's precious dead hits decays new fired sounds fled shines alone lived is good rage or flowers mistaking increase night old pride light dyed dyed shine sight away despair now appear 'will ' should lie of thy ' write more ' doth great pride go esteem torn new remain spent make me new free free new old part can die must chide me tender'd prove me parts new lips of hope to give me grow on laws meetness pride shines so shown bright worth alone live to thee do it alone so\n"
          ],
          "name": "stdout"
        }
      ]
    },
    {
      "cell_type": "code",
      "metadata": {
        "id": "0Tfpj-prspXE",
        "colab_type": "code",
        "colab": {}
      },
      "source": [
        ""
      ],
      "execution_count": 0,
      "outputs": []
    }
  ]
}